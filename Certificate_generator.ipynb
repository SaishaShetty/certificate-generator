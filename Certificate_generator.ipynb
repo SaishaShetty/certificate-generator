{
 "cells": [
  {
   "cell_type": "code",
   "execution_count": 66,
   "metadata": {},
   "outputs": [],
   "source": [
    "import pandas as pd\n",
    "import cv2 as cv\n",
    "import openpyxl"
   ]
  },
  {
   "cell_type": "code",
   "execution_count": 67,
   "metadata": {},
   "outputs": [],
   "source": [
    "details_path='/Users/saishashetty/Documents/files/data.xlsx'"
   ]
  },
  {
   "cell_type": "code",
   "execution_count": 68,
   "metadata": {},
   "outputs": [],
   "source": [
    "output_path='/Users/saishashetty/Documents/files'"
   ]
  },
  {
   "cell_type": "code",
   "execution_count": 69,
   "metadata": {},
   "outputs": [],
   "source": [
    "template='/Users/saishashetty/Desktop/Participation-Certificate-Template.png'"
   ]
  },
  {
   "cell_type": "code",
   "execution_count": 70,
   "metadata": {},
   "outputs": [
    {
     "data": {
      "text/plain": [
       "'/Users/saishashetty/Desktop/Participation-Certificate-Template.png'"
      ]
     },
     "execution_count": 70,
     "metadata": {},
     "output_type": "execute_result"
    }
   ],
   "source": [
    "template"
   ]
  },
  {
   "cell_type": "code",
   "execution_count": 71,
   "metadata": {},
   "outputs": [],
   "source": [
    "font_size=3\n",
    "font_color=(0,0,0)\n",
    "coordinate_y_adjustment=15\n",
    "coordinate_x_adjustment=7"
   ]
  },
  {
   "cell_type": "code",
   "execution_count": 72,
   "metadata": {},
   "outputs": [],
   "source": [
    "obj=openpyxl.load_workbook(details_path)\n",
    "sheet=obj.active"
   ]
  },
  {
   "cell_type": "code",
   "execution_count": 73,
   "metadata": {},
   "outputs": [],
   "source": [
    "for i in range (1,5):\n",
    "    get_name=sheet.cell(row=i,column=1)\n",
    "    certi_name=get_name.value"
   ]
  },
  {
   "cell_type": "code",
   "execution_count": 74,
   "metadata": {},
   "outputs": [],
   "source": [
    "img=cv.imread(template)"
   ]
  },
  {
   "cell_type": "code",
   "execution_count": 75,
   "metadata": {},
   "outputs": [],
   "source": [
    "font=cv.FONT_HERSHEY_PLAIN\n",
    "text_size=cv.getTextSize(certi_name,font,font_size,10)[0]"
   ]
  },
  {
   "cell_type": "code",
   "execution_count": 76,
   "metadata": {},
   "outputs": [],
   "source": [
    "text_x=(img.shape[1]-text_size[0])/2+coordinate_x_adjustment\n",
    "text_y=(img.shape[0]-text_size[1])/2-coordinate_y_adjustment\n",
    "text_x=int(text_x)\n",
    "text_y=int(text_y)"
   ]
  },
  {
   "cell_type": "code",
   "execution_count": 77,
   "metadata": {},
   "outputs": [
    {
     "data": {
      "text/plain": [
       "array([[[205, 196, 190],\n",
       "        [187, 179, 173],\n",
       "        [187, 179, 173],\n",
       "        ...,\n",
       "        [187, 179, 173],\n",
       "        [187, 179, 173],\n",
       "        [187, 179, 173]],\n",
       "\n",
       "       [[205, 196, 190],\n",
       "        [187, 179, 173],\n",
       "        [176, 168, 163],\n",
       "        ...,\n",
       "        [176, 168, 163],\n",
       "        [176, 168, 163],\n",
       "        [176, 168, 163]],\n",
       "\n",
       "       [[204, 195, 190],\n",
       "        [186, 178, 173],\n",
       "        [175, 167, 163],\n",
       "        ...,\n",
       "        [164, 156, 152],\n",
       "        [164, 156, 152],\n",
       "        [175, 167, 163]],\n",
       "\n",
       "       ...,\n",
       "\n",
       "       [[174, 163, 154],\n",
       "        [158, 148, 140],\n",
       "        [158, 148, 140],\n",
       "        ...,\n",
       "        [158, 148, 140],\n",
       "        [158, 148, 140],\n",
       "        [158, 148, 140]],\n",
       "\n",
       "       [[174, 163, 154],\n",
       "        [174, 163, 154],\n",
       "        [174, 163, 154],\n",
       "        ...,\n",
       "        [174, 163, 154],\n",
       "        [174, 163, 154],\n",
       "        [174, 163, 154]],\n",
       "\n",
       "       [[174, 163, 154],\n",
       "        [174, 163, 154],\n",
       "        [174, 163, 154],\n",
       "        ...,\n",
       "        [174, 163, 154],\n",
       "        [174, 163, 154],\n",
       "        [174, 163, 154]]], dtype=uint8)"
      ]
     },
     "execution_count": 77,
     "metadata": {},
     "output_type": "execute_result"
    }
   ],
   "source": [
    "cv.putText(img,certi_name,\n",
    "          (text_x,text_y),\n",
    "           font,\n",
    "           font_size,\n",
    "           font_color,10)"
   ]
  },
  {
   "cell_type": "code",
   "execution_count": 78,
   "metadata": {},
   "outputs": [],
   "source": [
    "certi_path=output_path+ '/certi' + '.png'"
   ]
  },
  {
   "cell_type": "code",
   "execution_count": 79,
   "metadata": {
    "scrolled": true
   },
   "outputs": [
    {
     "data": {
      "text/plain": [
       "True"
      ]
     },
     "execution_count": 79,
     "metadata": {},
     "output_type": "execute_result"
    }
   ],
   "source": [
    "cv.imwrite(certi_path,img)"
   ]
  },
  {
   "cell_type": "code",
   "execution_count": null,
   "metadata": {},
   "outputs": [],
   "source": []
  },
  {
   "cell_type": "code",
   "execution_count": null,
   "metadata": {},
   "outputs": [],
   "source": []
  }
 ],
 "metadata": {
  "kernelspec": {
   "display_name": "Python 3",
   "language": "python",
   "name": "python3"
  },
  "language_info": {
   "codemirror_mode": {
    "name": "ipython",
    "version": 3
   },
   "file_extension": ".py",
   "mimetype": "text/x-python",
   "name": "python",
   "nbconvert_exporter": "python",
   "pygments_lexer": "ipython3",
   "version": "3.7.6"
  }
 },
 "nbformat": 4,
 "nbformat_minor": 4
}
